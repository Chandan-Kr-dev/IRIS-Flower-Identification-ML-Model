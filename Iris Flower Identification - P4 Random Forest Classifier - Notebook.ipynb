{
 "cells": [
  {
   "cell_type": "markdown",
   "metadata": {},
   "source": [
    "<a id=\"install\"></a>\n",
    "## Package installation\n",
    "Before you use the sample code in this notebook, install the following packages:\n",
    " - ibm-watsonx-ai,\n",
    " - autoai-libs,\n",
    " - scikit-learn\n"
   ]
  },
  {
   "cell_type": "code",
   "execution_count": 1,
   "metadata": {
    "execution": {
     "iopub.execute_input": "2020-10-12T14:00:45.009458Z",
     "iopub.status.busy": "2020-10-12T14:00:45.007968Z",
     "iopub.status.idle": "2020-10-12T14:00:46.037702Z",
     "shell.execute_reply": "2020-10-12T14:00:46.038270Z"
    },
    "pycharm": {
     "name": "#%%\n"
    },
    "scrolled": true
   },
   "outputs": [
    {
     "name": "stderr",
     "output_type": "stream",
     "text": [
      "'tail' is not recognized as an internal or external command,\n",
      "operable program or batch file.\n",
      "'tail' is not recognized as an internal or external command,\n",
      "operable program or batch file.\n",
      "'tail' is not recognized as an internal or external command,\n",
      "operable program or batch file.\n",
      "'tail' is not recognized as an internal or external command,\n",
      "operable program or batch file.\n"
     ]
    }
   ],
   "source": [
    "!pip install ibm-watsonx-ai | tail -n 1\n",
    "!pip install autoai-libs~=2.0 | tail -n 1\n",
    "!pip install scikit-learn==1.3.* | tail -n 1\n",
    "!pip install -U lale~=0.8.3 | tail -n 1"
   ]
  },
  {
   "cell_type": "markdown",
   "metadata": {},
   "source": [
    "Filter warnings for this notebook."
   ]
  },
  {
   "cell_type": "code",
   "execution_count": null,
   "metadata": {},
   "outputs": [],
   "source": [
    "import warnings\n",
    "\n",
    "warnings.filterwarnings('ignore')"
   ]
  },
  {
   "cell_type": "markdown",
   "metadata": {},
   "source": [
    "<a id=\"variables_definition\"></a>\n",
    "## AutoAI experiment metadata\n",
    "The following cell contains the training data connection details.  \n",
    "**Note**: The connection might contain authorization credentials, so be careful when sharing the notebook."
   ]
  },
  {
   "cell_type": "code",
   "execution_count": null,
   "metadata": {
    "execution": {
     "iopub.execute_input": "2020-10-12T14:00:49.797633Z",
     "iopub.status.busy": "2020-10-12T14:00:49.796778Z",
     "iopub.status.idle": "2020-10-12T14:00:57.182715Z",
     "shell.execute_reply": "2020-10-12T14:00:57.183132Z"
    },
    "pycharm": {
     "is_executing": true
    }
   },
   "outputs": [],
   "source": [
    "from ibm_watsonx_ai.helpers import DataConnection\n",
    "from ibm_watsonx_ai.helpers import ContainerLocation\n",
    "\n",
    "training_data_references = [\n",
    "    DataConnection(\n",
    "        data_asset_id='98423514-31a3-4da4-b55d-c45ec61ddc56'\n",
    "    ),\n",
    "]\n",
    "training_result_reference = DataConnection(\n",
    "    location=ContainerLocation(\n",
    "        path='auto_ml/9f4c57d7-c6bf-48a4-9e63-d3fb7db3df88/wml_data/94867772-1a6e-4511-8223-cfc1942d8cb0/data/automl',\n",
    "        model_location='auto_ml/9f4c57d7-c6bf-48a4-9e63-d3fb7db3df88/wml_data/94867772-1a6e-4511-8223-cfc1942d8cb0/data/automl/model.zip',\n",
    "        training_status='auto_ml/9f4c57d7-c6bf-48a4-9e63-d3fb7db3df88/wml_data/94867772-1a6e-4511-8223-cfc1942d8cb0/training-status.json'\n",
    "    )\n",
    ")"
   ]
  },
  {
   "cell_type": "markdown",
   "metadata": {},
   "source": [
    "The following cell contains input parameters provided to run the AutoAI experiment in Watson Studio."
   ]
  },
  {
   "cell_type": "code",
   "execution_count": null,
   "metadata": {
    "execution": {
     "iopub.execute_input": "2020-10-12T14:00:57.187305Z",
     "iopub.status.busy": "2020-10-12T14:00:57.186602Z",
     "iopub.status.idle": "2020-10-12T14:00:57.188392Z",
     "shell.execute_reply": "2020-10-12T14:00:57.188878Z"
    },
    "pycharm": {
     "name": "#%%\n"
    }
   },
   "outputs": [],
   "source": [
    "experiment_metadata = dict(\n",
    "    prediction_type='multiclass',\n",
    "    prediction_column='Class Label',\n",
    "    holdout_size=0.1,\n",
    "    scoring='accuracy',\n",
    "    csv_separator=',',\n",
    "    random_state=33,\n",
    "    max_number_of_estimators=2,\n",
    "    training_data_references=training_data_references,\n",
    "    training_result_reference=training_result_reference,\n",
    "    deployment_url='https://us-south.ml.cloud.ibm.com',\n",
    "    project_id='86056f06-d08c-464a-816d-53b98cc9be40',\n",
    "    drop_duplicates=True,\n",
    "    include_batched_ensemble_estimators=[],\n",
    "    feature_selector_mode='auto'\n",
    ")"
   ]
  },
  {
   "cell_type": "markdown",
   "metadata": {},
   "source": [
    "## Set `n_jobs` parameter to the number of available CPUs"
   ]
  },
  {
   "cell_type": "code",
   "execution_count": null,
   "metadata": {},
   "outputs": [],
   "source": [
    "import os, ast\n",
    "CPU_NUMBER = 1\n",
    "if 'RUNTIME_HARDWARE_SPEC' in os.environ:\n",
    "    CPU_NUMBER = int(ast.literal_eval(os.environ['RUNTIME_HARDWARE_SPEC'])['num_cpu'])"
   ]
  },
  {
   "cell_type": "markdown",
   "metadata": {},
   "source": [
    "<a id=\"connection\"></a>\n",
    "## Watson Machine Learning connection\n",
    "\n",
    "This cell defines the credentials required to work with the Watson Machine Learning service.\n",
    "\n",
    "**Action**: Provide the IBM Cloud apikey, For details, see [documentation](https://cloud.ibm.com/docs/account?topic=account-userapikey)."
   ]
  },
  {
   "cell_type": "code",
   "execution_count": null,
   "metadata": {},
   "outputs": [],
   "source": [
    "api_key = 'PUT_YOUR_APIKEY_HERE'"
   ]
  },
  {
   "cell_type": "code",
   "execution_count": null,
   "metadata": {},
   "outputs": [],
   "source": [
    "from ibm_watsonx_ai import Credentials\n",
    "\n",
    "credentials = Credentials(\n",
    "    api_key=api_key,\n",
    "    url=experiment_metadata['deployment_url']\n",
    ")"
   ]
  },
  {
   "cell_type": "code",
   "execution_count": null,
   "metadata": {},
   "outputs": [],
   "source": [
    "from ibm_watsonx_ai import APIClient\n",
    "\n",
    "client = APIClient(credentials)\n",
    "\n",
    "if 'space_id' in experiment_metadata:\n",
    "    client.set.default_space(experiment_metadata['space_id'])\n",
    "else:\n",
    "    client.set.default_project(experiment_metadata['project_id'])\n",
    "    \n",
    "training_data_references[0].set_client(client)"
   ]
  },
  {
   "cell_type": "markdown",
   "metadata": {},
   "source": [
    "<a id=\"inspection\"></a>\n",
    "# Pipeline inspection"
   ]
  },
  {
   "cell_type": "markdown",
   "metadata": {},
   "source": [
    "<a id=\"read\"></a>\n",
    "## Read training data\n",
    "\n",
    "Retrieve training dataset from AutoAI experiment as pandas DataFrame.\n",
    "\n",
    "**Note**: If reading data results in an error, provide data as Pandas DataFrame object, for example, reading .CSV file with `pandas.read_csv()`. \n",
    "\n",
    "It may be necessary to use methods for initial data pre-processing like: e.g. `DataFrame.dropna()`, `DataFrame.drop_duplicates()`, `DataFrame.sample()`.\n"
   ]
  },
  {
   "cell_type": "code",
   "execution_count": null,
   "metadata": {
    "execution": {
     "iopub.execute_input": "2020-10-12T14:01:16.076169Z",
     "iopub.status.busy": "2020-10-12T14:01:16.075589Z",
     "iopub.status.idle": "2020-10-12T14:01:19.190233Z",
     "shell.execute_reply": "2020-10-12T14:01:19.190807Z"
    },
    "pycharm": {
     "is_executing": true,
     "name": "#%%\n"
    }
   },
   "outputs": [],
   "source": [
    "X_train, X_test, y_train, y_test = training_data_references[0].read(experiment_metadata=experiment_metadata, with_holdout_split=True, use_flight=True)"
   ]
  },
  {
   "cell_type": "markdown",
   "metadata": {
    "pycharm": {
     "name": "#%% md\n"
    }
   },
   "source": [
    "<a id=\"preview_model_to_python_code\"></a>\n",
    "## Create pipeline\n",
    "In the next cell, you can find the Scikit-learn definition of the selected AutoAI pipeline."
   ]
  },
  {
   "cell_type": "markdown",
   "metadata": {
    "pycharm": {
     "name": "#%% md\n"
    }
   },
   "source": [
    "#### Import statements."
   ]
  },
  {
   "cell_type": "code",
   "execution_count": null,
   "metadata": {
    "pycharm": {
     "is_executing": true,
     "name": "#%%\n"
    }
   },
   "outputs": [],
   "source": [
    "from autoai_libs.transformers.exportable import ColumnSelector\n",
    "from autoai_libs.transformers.exportable import NumpyColumnSelector\n",
    "from autoai_libs.transformers.exportable import FloatStr2Float\n",
    "from autoai_libs.transformers.exportable import NumpyReplaceMissingValues\n",
    "from autoai_libs.transformers.exportable import NumImputer\n",
    "from autoai_libs.transformers.exportable import OptStandardScaler\n",
    "from autoai_libs.transformers.exportable import float32_transform\n",
    "from autoai_libs.cognito.transforms.transform_utils import TA2\n",
    "import numpy as np\n",
    "import autoai_libs.utils.fc_methods\n",
    "from autoai_libs.cognito.transforms.transform_utils import FS1\n",
    "from autoai_libs.cognito.transforms.transform_utils import TA1\n",
    "from sklearn.ensemble import RandomForestClassifier\n",
    "from sklearn.pipeline import make_pipeline"
   ]
  },
  {
   "cell_type": "markdown",
   "metadata": {},
   "source": [
    "#### Pre-processing & Estimator."
   ]
  },
  {
   "cell_type": "code",
   "execution_count": null,
   "metadata": {
    "pycharm": {
     "is_executing": true,
     "name": "#%%\n"
    }
   },
   "outputs": [],
   "source": [
    "column_selector = ColumnSelector(columns_indices_list=[1, 2, 3, 4])\n",
    "numpy_column_selector = NumpyColumnSelector(columns=[0, 1, 2, 3])\n",
    "float_str2_float = FloatStr2Float(\n",
    "    dtypes_list=[\"float_num\", \"float_num\", \"float_num\", \"float_num\"],\n",
    "    missing_values_reference_list=[],\n",
    ")\n",
    "numpy_replace_missing_values = NumpyReplaceMissingValues(\n",
    "    filling_values=float(\"nan\"), missing_values=[]\n",
    ")\n",
    "num_imputer = NumImputer(missing_values=float(\"nan\"), strategy=\"median\")\n",
    "opt_standard_scaler = OptStandardScaler(use_scaler_flag=False)\n",
    "ta2 = TA2(\n",
    "    fun=np.add,\n",
    "    name=\"sum\",\n",
    "    datatypes1=[\n",
    "        \"intc\", \"intp\", \"int_\", \"uint8\", \"uint16\", \"uint32\", \"uint64\", \"int8\",\n",
    "        \"int16\", \"int32\", \"int64\", \"short\", \"long\", \"longlong\", \"float16\",\n",
    "        \"float32\", \"float64\",\n",
    "    ],\n",
    "    feat_constraints1=[autoai_libs.utils.fc_methods.is_not_categorical],\n",
    "    datatypes2=[\n",
    "        \"intc\", \"intp\", \"int_\", \"uint8\", \"uint16\", \"uint32\", \"uint64\", \"int8\",\n",
    "        \"int16\", \"int32\", \"int64\", \"short\", \"long\", \"longlong\", \"float16\",\n",
    "        \"float32\", \"float64\",\n",
    "    ],\n",
    "    feat_constraints2=[autoai_libs.utils.fc_methods.is_not_categorical],\n",
    "    col_names=[\n",
    "        \"SepalLengthCm\", \"SepalWidthCm\", \"PetalLengthCm\", \"PetalWidthCm\",\n",
    "    ],\n",
    "    col_dtypes=[\n",
    "        np.dtype(\"float32\"), np.dtype(\"float32\"), np.dtype(\"float32\"),\n",
    "        np.dtype(\"float32\"),\n",
    "    ],\n",
    ")\n",
    "fs1_0 = FS1(\n",
    "    cols_ids_must_keep=range(0, 4),\n",
    "    additional_col_count_to_keep=4,\n",
    "    ptype=\"classification\",\n",
    ")\n",
    "ta1 = TA1(\n",
    "    fun=np.sqrt,\n",
    "    name=\"sqrt\",\n",
    "    datatypes=[\"numeric\"],\n",
    "    feat_constraints=[\n",
    "        autoai_libs.utils.fc_methods.is_non_negative,\n",
    "        autoai_libs.utils.fc_methods.is_not_categorical,\n",
    "    ],\n",
    "    col_names=[\n",
    "        \"SepalLengthCm\", \"SepalWidthCm\", \"PetalLengthCm\", \"PetalWidthCm\",\n",
    "        \"sum(SepalLengthCm__PetalLengthCm)\",\n",
    "        \"sum(SepalLengthCm__PetalWidthCm)\",\n",
    "        \"sum(SepalWidthCm__PetalLengthCm)\",\n",
    "        \"sum(PetalLengthCm__PetalWidthCm)\",\n",
    "    ],\n",
    "    col_dtypes=[\n",
    "        np.dtype(\"float32\"), np.dtype(\"float32\"), np.dtype(\"float32\"),\n",
    "        np.dtype(\"float32\"), np.dtype(\"float32\"), np.dtype(\"float32\"),\n",
    "        np.dtype(\"float32\"), np.dtype(\"float32\"),\n",
    "    ],\n",
    ")\n",
    "fs1_1 = FS1(\n",
    "    cols_ids_must_keep=range(0, 4),\n",
    "    additional_col_count_to_keep=4,\n",
    "    ptype=\"classification\",\n",
    ")\n",
    "random_forest_classifier = RandomForestClassifier(\n",
    "    class_weight=\"balanced\",\n",
    "    criterion=\"entropy\",\n",
    "    max_depth=5,\n",
    "    max_features=0.24167589580505217,\n",
    "    min_samples_leaf=2,\n",
    "    n_estimators=34,\n",
    "    n_jobs=CPU_NUMBER,\n",
    "    random_state=33,\n",
    ")\n"
   ]
  },
  {
   "cell_type": "markdown",
   "metadata": {},
   "source": [
    "#### Pipeline."
   ]
  },
  {
   "cell_type": "code",
   "execution_count": null,
   "metadata": {
    "pycharm": {
     "is_executing": true,
     "name": "#%%\n"
    }
   },
   "outputs": [],
   "source": [
    "pipeline = make_pipeline(\n",
    "    column_selector,\n",
    "    numpy_column_selector,\n",
    "    float_str2_float,\n",
    "    numpy_replace_missing_values,\n",
    "    num_imputer,\n",
    "    opt_standard_scaler,\n",
    "    float32_transform(),\n",
    "    ta2,\n",
    "    fs1_0,\n",
    "    ta1,\n",
    "    fs1_1,\n",
    "    random_forest_classifier,\n",
    ")"
   ]
  },
  {
   "cell_type": "markdown",
   "metadata": {},
   "source": [
    "<a id=\"train\"></a>\n",
    "## Train pipeline model\n"
   ]
  },
  {
   "cell_type": "markdown",
   "metadata": {
    "pycharm": {
     "name": "#%% md\n"
    }
   },
   "source": [
    "### Define scorer from the optimization metric\n",
    "This cell constructs the cell scorer based on the experiment metadata."
   ]
  },
  {
   "cell_type": "code",
   "execution_count": null,
   "metadata": {
    "pycharm": {
     "is_executing": true,
     "name": "#%%\n"
    }
   },
   "outputs": [],
   "source": [
    "from sklearn.metrics import get_scorer\n",
    "\n",
    "scorer = get_scorer(experiment_metadata['scoring'])"
   ]
  },
  {
   "cell_type": "markdown",
   "metadata": {
    "pycharm": {
     "name": "#%% md\n"
    }
   },
   "source": [
    "<a id=\"test_model\"></a>\n",
    "### Fit pipeline model\n",
    "In this cell, the pipeline is fitted."
   ]
  },
  {
   "cell_type": "code",
   "execution_count": null,
   "metadata": {
    "execution": {
     "iopub.execute_input": "2020-10-12T14:01:19.291734Z",
     "iopub.status.busy": "2020-10-12T14:01:19.244735Z",
     "iopub.status.idle": "2020-10-12T14:01:19.338461Z",
     "shell.execute_reply": "2020-10-12T14:01:19.338958Z"
    },
    "pycharm": {
     "is_executing": true,
     "name": "#%%\n"
    },
    "scrolled": true
   },
   "outputs": [],
   "source": [
    "pipeline.fit(X_train.values, y_train.values.ravel());"
   ]
  },
  {
   "cell_type": "markdown",
   "metadata": {},
   "source": [
    "<a id=\"test_model\"></a>\n",
    "## Test pipeline model"
   ]
  },
  {
   "cell_type": "markdown",
   "metadata": {
    "pycharm": {
     "name": "#%% md\n"
    }
   },
   "source": [
    "Score the fitted pipeline with the generated scorer using the holdout dataset."
   ]
  },
  {
   "cell_type": "code",
   "execution_count": null,
   "metadata": {
    "execution": {
     "iopub.execute_input": "2020-10-12T14:02:03.910267Z",
     "iopub.status.busy": "2020-10-12T14:02:03.909710Z",
     "iopub.status.idle": "2020-10-12T14:02:03.914154Z",
     "shell.execute_reply": "2020-10-12T14:02:03.914727Z"
    },
    "pycharm": {
     "is_executing": true,
     "name": "#%%\n"
    }
   },
   "outputs": [],
   "source": [
    "score = scorer(pipeline, X_test.values, y_test.values)\n",
    "print(score)"
   ]
  },
  {
   "cell_type": "code",
   "execution_count": null,
   "metadata": {
    "pycharm": {
     "name": "#%%\n"
    }
   },
   "outputs": [],
   "source": [
    "pipeline.predict(X_test.values[:5])"
   ]
  },
  {
   "cell_type": "markdown",
   "metadata": {},
   "source": [
    "<a id=\"saving\"></a>\n",
    "## Store the model\n",
    "\n",
    "In this section you will learn how to store the trained model."
   ]
  },
  {
   "cell_type": "code",
   "execution_count": null,
   "metadata": {},
   "outputs": [],
   "source": [
    "model_metadata = {\n",
    "    client.repository.ModelMetaNames.NAME: 'P4 - Pretrained AutoAI pipeline'\n",
    "}\n",
    "\n",
    "stored_model_details = client.repository.store_model(model=pipeline, meta_props=model_metadata, experiment_metadata=experiment_metadata)"
   ]
  },
  {
   "cell_type": "markdown",
   "metadata": {},
   "source": [
    "Inspect the stored model details."
   ]
  },
  {
   "cell_type": "code",
   "execution_count": null,
   "metadata": {},
   "outputs": [],
   "source": [
    "stored_model_details"
   ]
  },
  {
   "cell_type": "markdown",
   "metadata": {
    "jupyter": {
     "outputs_hidden": false
    }
   },
   "source": [
    "<a id=\"deployment\"></a>\n",
    "## Create online deployment"
   ]
  },
  {
   "cell_type": "markdown",
   "metadata": {
    "jupyter": {
     "outputs_hidden": false
    }
   },
   "source": [
    "You can use the commands below to promote the model to space and create online deployment (web service).\n",
    "\n",
    "<a id=\"working_spaces\"></a>\n",
    "### Working with spaces\n",
    "\n",
    "In this section you will specify a deployment space for organizing the assets for deploying and scoring the model. If you do not have an existing space, you can use [Deployment Spaces Dashboard](/ml-runtime/spaces?context=icp4data) to create a new space, following these steps:\n",
    "\n",
    "- Click **New Deployment Space**.\n",
    "- Create an empty space.\n",
    "- Select Cloud Object Storage.\n",
    "- Select Watson Machine Learning instance and press **Create**.\n",
    "- Copy `space_id` and paste it below.\n",
    "\n",
    "**Tip**: You can also use the API to prepare the space for your work. Learn more [here](https://github.com/IBM/watson-machine-learning-samples/blob/master/cloud/notebooks/python_sdk/instance-management/Space%20management.ipynb).\n",
    "\n",
    "**Action**: Assign or update space ID below."
   ]
  },
  {
   "cell_type": "raw",
   "metadata": {
    "jupyter": {
     "outputs_hidden": false
    }
   },
   "source": [
    "space_id = \"PUT_YOUR_SPACE_ID_HERE\"\n",
    "\n",
    "model_id = client.spaces.promote(asset_id=stored_model_details[\"metadata\"][\"id\"], source_project_id=experiment_metadata[\"project_id\"], target_space_id=space_id)"
   ]
  },
  {
   "cell_type": "markdown",
   "metadata": {
    "jupyter": {
     "outputs_hidden": false
    }
   },
   "source": [
    "#### Prepare online deployment"
   ]
  },
  {
   "cell_type": "raw",
   "metadata": {
    "jupyter": {
     "outputs_hidden": false
    }
   },
   "source": [
    "client.set.default_space(space_id)\n",
    "\n",
    "deploy_meta = {\n",
    "        client.deployments.ConfigurationMetaNames.NAME: \"Incrementally trained AutoAI pipeline\",\n",
    "        client.deployments.ConfigurationMetaNames.ONLINE: {},\n",
    "    }\n",
    "\n",
    "deployment_details = client.deployments.create(artifact_uid=model_id, meta_props=deploy_meta)\n",
    "deployment_id = client.deployments.get_id(deployment_details)"
   ]
  },
  {
   "cell_type": "markdown",
   "metadata": {
    "jupyter": {
     "outputs_hidden": false
    }
   },
   "source": [
    "#### Test online deployment"
   ]
  },
  {
   "cell_type": "raw",
   "metadata": {
    "jupyter": {
     "outputs_hidden": false
    }
   },
   "source": [
    "import pandas as pd\n",
    "\n",
    "scoring_payload = {\n",
    "    \"input_data\": [{\n",
    "        'values': pd.DataFrame(X_test[:5])\n",
    "    }]\n",
    "}\n",
    "\n",
    "client.deployments.score(deployment_id, scoring_payload)"
   ]
  },
  {
   "cell_type": "markdown",
   "metadata": {
    "jupyter": {
     "outputs_hidden": false
    }
   },
   "source": [
    "<a id=\"cleanup\"></a>\n",
    "### Deleting deployment\n",
    "You can delete the existing deployment by calling the `client.deployments.delete(deployment_id)` command.\n",
    "To list the existing web services, use `client.deployments.list()`."
   ]
  },
  {
   "cell_type": "markdown",
   "metadata": {},
   "source": [
    "<a id=\"summary_and_next_steps\"></a>\n",
    "# Summary and next steps\n",
    "You successfully completed this notebook!\n",
    "You learned how to use AutoAI pipeline definition to train the model.\n",
    "Check out our [Online Documentation](https://www.ibm.com/cloud/watson-studio/autoai) for more samples, tutorials, documentation, how-tos, and blog posts."
   ]
  },
  {
   "cell_type": "markdown",
   "metadata": {},
   "source": [
    "<a id=\"copyrights\"></a>\n",
    "### Copyrights\n",
    "\n",
    "Licensed Materials - Copyright © 2024 IBM. This notebook and its source code are released under the terms of the ILAN License. Use, duplication disclosure restricted by GSA ADP Schedule Contract with IBM Corp.\n",
    "\n",
    "**Note:** The auto-generated notebooks are subject to the International License Agreement for Non-Warranted Programs (or equivalent) and License Information document for Watson Studio Auto-generated Notebook (License Terms), such agreements located in the link below. Specifically, the Source Components and Sample Materials clause included in the License Information document for Watson Studio Auto-generated Notebook applies to the auto-generated notebooks.  \n",
    "\n",
    "By downloading, copying, accessing, or otherwise using the materials, you agree to the <a href=\"https://www14.software.ibm.com/cgi-bin/weblap/lap.pl?li_formnum=L-AMCU-BYC7LF\">License Terms</a>\n",
    "\n",
    "___"
   ]
  }
 ],
 "metadata": {
  "kernelspec": {
   "display_name": "Python 3",
   "language": "python",
   "name": "python3"
  },
  "language_info": {
   "codemirror_mode": {
    "name": "ipython",
    "version": 3
   },
   "file_extension": ".py",
   "mimetype": "text/x-python",
   "name": "python",
   "nbconvert_exporter": "python",
   "pygments_lexer": "ipython3",
   "version": "3.12.7"
  }
 },
 "nbformat": 4,
 "nbformat_minor": 4
}
